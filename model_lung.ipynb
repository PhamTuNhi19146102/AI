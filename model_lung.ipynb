{
  "cells": [
    {
      "cell_type": "markdown",
      "metadata": {
        "id": "view-in-github",
        "colab_type": "text"
      },
      "source": [
        "<a href=\"https://colab.research.google.com/github/PhamTuNhi19146102/AI/blob/main/model_lung.ipynb\" target=\"_parent\"><img src=\"https://colab.research.google.com/assets/colab-badge.svg\" alt=\"Open In Colab\"/></a>"
      ]
    },
    {
      "cell_type": "code",
      "execution_count": 2,
      "metadata": {
        "id": "WYHW_vm420l2"
      },
      "outputs": [],
      "source": [
        "import numpy as np\n",
        "import os\n",
        "\n",
        "from keras.models import Sequential\n",
        "from keras.layers import Dense, Conv2D\n",
        "from keras.layers import Dropout\n",
        "from keras.layers import Flatten,Activation\n",
        "from keras.constraints import maxnorm\n",
        "from tensorflow.keras.optimizers import Adam\n",
        "\n",
        "from keras.layers.convolutional import Convolution2D\n",
        "from keras.layers.convolutional import MaxPooling2D\n",
        "from keras.callbacks import ModelCheckpoint, LearningRateScheduler\n",
        "from keras.callbacks import ReduceLROnPlateau\n",
        "from keras.callbacks import EarlyStopping\n",
        "\n",
        "\n",
        "from keras.utils import np_utils\n",
        "import matplotlib.pyplot as plt\n",
        "from keras.preprocessing.image import ImageDataGenerator"
      ]
    },
    {
      "cell_type": "code",
      "execution_count": 3,
      "metadata": {
        "colab": {
          "base_uri": "https://localhost:8080/"
        },
        "id": "4mYKwJEp235C",
        "outputId": "e0543633-20b3-431c-8cf0-02e50741c0ed"
      },
      "outputs": [
        {
          "output_type": "stream",
          "name": "stdout",
          "text": [
            "Drive already mounted at /content/drive; to attempt to forcibly remount, call drive.mount(\"/content/drive\", force_remount=True).\n"
          ]
        }
      ],
      "source": [
        "from google.colab import drive\n",
        "drive.mount('/content/drive')"
      ]
    },
    {
      "cell_type": "code",
      "execution_count": 4,
      "metadata": {
        "id": "2QlURVd13B4O"
      },
      "outputs": [],
      "source": [
        "\n",
        "x_train = ImageDataGenerator(rescale=1/255)\n",
        "x_test = ImageDataGenerator(rescale=1/255)"
      ]
    },
    {
      "cell_type": "code",
      "execution_count": 5,
      "metadata": {
        "colab": {
          "base_uri": "https://localhost:8080/"
        },
        "id": "U2DBV4zr3C6H",
        "outputId": "0e4aa88e-21a0-4373-8d1f-5ebb759b00fe"
      },
      "outputs": [
        {
          "output_type": "stream",
          "name": "stdout",
          "text": [
            "Found 2458 images belonging to 2 classes.\n",
            "Found 652 images belonging to 2 classes.\n"
          ]
        }
      ],
      "source": [
        "x_train_data = x_train.flow_from_directory(\n",
        "    directory=r\"/content/drive/MyDrive/x_ray_detection_lung/x_ray detect/train\",\n",
        "    target_size=(350, 350),\n",
        "    batch_size=3,\n",
        "    class_mode='categorical',\n",
        "    )\n",
        "x_test_data = x_test.flow_from_directory(\n",
        "    directory=r\"/content/drive/MyDrive/x_ray_detection_lung/x_ray detect/test\",\n",
        "    target_size=(350, 350),\n",
        "    batch_size=3,\n",
        "    class_mode= \"categorical\",\n",
        "    )"
      ]
    },
    {
      "cell_type": "code",
      "execution_count": 6,
      "metadata": {
        "colab": {
          "base_uri": "https://localhost:8080/"
        },
        "id": "sK-eSFEo3SS7",
        "outputId": "94adc091-62f5-47b6-dad1-ebdb956782b7"
      },
      "outputs": [
        {
          "output_type": "execute_result",
          "data": {
            "text/plain": [
              "{'cancer': 0, 'normal': 1}"
            ]
          },
          "metadata": {},
          "execution_count": 6
        }
      ],
      "source": [
        "x_train_data.class_indices"
      ]
    },
    {
      "cell_type": "code",
      "execution_count": 7,
      "metadata": {
        "colab": {
          "base_uri": "https://localhost:8080/"
        },
        "id": "-_uUqsAk3UhG",
        "outputId": "c74e60ad-8447-46fb-d96d-6cbe07e18ddc"
      },
      "outputs": [
        {
          "output_type": "stream",
          "name": "stdout",
          "text": [
            "Model: \"sequential\"\n",
            "_________________________________________________________________\n",
            " Layer (type)                Output Shape              Param #   \n",
            "=================================================================\n",
            " conv2d (Conv2D)             (None, 350, 350, 256)     7168      \n",
            "                                                                 \n",
            " activation (Activation)     (None, 350, 350, 256)     0         \n",
            "                                                                 \n",
            " max_pooling2d (MaxPooling2D  (None, 175, 175, 256)    0         \n",
            " )                                                               \n",
            "                                                                 \n",
            " conv2d_1 (Conv2D)           (None, 175, 175, 64)      147520    \n",
            "                                                                 \n",
            " activation_1 (Activation)   (None, 175, 175, 64)      0         \n",
            "                                                                 \n",
            " max_pooling2d_1 (MaxPooling  (None, 88, 88, 64)       0         \n",
            " 2D)                                                             \n",
            "                                                                 \n",
            " conv2d_2 (Conv2D)           (None, 88, 88, 16)        9232      \n",
            "                                                                 \n",
            " activation_2 (Activation)   (None, 88, 88, 16)        0         \n",
            "                                                                 \n",
            " max_pooling2d_2 (MaxPooling  (None, 44, 44, 16)       0         \n",
            " 2D)                                                             \n",
            "                                                                 \n",
            " flatten (Flatten)           (None, 30976)             0         \n",
            "                                                                 \n",
            " dropout (Dropout)           (None, 30976)             0         \n",
            "                                                                 \n",
            " dense (Dense)               (None, 64)                1982528   \n",
            "                                                                 \n",
            " activation_3 (Activation)   (None, 64)                0         \n",
            "                                                                 \n",
            " dropout_1 (Dropout)         (None, 64)                0         \n",
            "                                                                 \n",
            " activation_4 (Activation)   (None, 64)                0         \n",
            "                                                                 \n",
            " dense_1 (Dense)             (None, 2)                 130       \n",
            "                                                                 \n",
            "=================================================================\n",
            "Total params: 2,146,578\n",
            "Trainable params: 2,146,578\n",
            "Non-trainable params: 0\n",
            "_________________________________________________________________\n"
          ]
        }
      ],
      "source": [
        "from keras.models import Sequential\n",
        "from keras.layers import Conv2D, MaxPooling2D, Dense, Flatten,Activation,BatchNormalization,Dropout\n",
        "from tensorflow.keras.callbacks import EarlyStopping\n",
        "\n",
        "model = Sequential()\n",
        "\n",
        "model.add(Conv2D(filters = 256, kernel_size = (3,3),padding = 'Same',activation ='relu', input_shape = (350,350,3)))\n",
        "model.add(Activation('relu'))\n",
        "model.add(MaxPooling2D(pool_size=(2, 2), padding='same'))\n",
        "\n",
        "model.add(Conv2D(64, (3, 3), padding='same'))\n",
        "model.add(Activation('relu'))\n",
        "model.add(MaxPooling2D(pool_size=(2, 2), padding='same'))\n",
        "\n",
        "model.add(Conv2D(16, (3, 3), padding='same'))\n",
        "model.add(Activation('relu'))\n",
        "model.add(MaxPooling2D(pool_size=(2, 2), padding='same'))\n",
        "\n",
        "model.add(Flatten())  # this converts our 3D feature maps to 1D feature vectors\n",
        "\n",
        "model.add(Dropout(0.5))\n",
        "model.add(Dense(64))\n",
        "model.add(Activation('relu'))\n",
        "\n",
        "model.add(Dropout(0.5))\n",
        "\n",
        "model.add(Activation('relu'))\n",
        "model.add(Dense(2, activation = \"softmax\"))\n",
        "\n",
        "model.summary()\n"
      ]
    },
    {
      "cell_type": "code",
      "execution_count": null,
      "metadata": {
        "colab": {
          "base_uri": "https://localhost:8080/"
        },
        "id": "toG2XKwv3dyf",
        "outputId": "02cbd536-04d1-4164-cd44-4fdbd1551da7"
      },
      "outputs": [
        {
          "output_type": "stream",
          "name": "stdout",
          "text": [
            "Epoch 1/10\n",
            "376/820 [============>.................] - ETA: 2:18 - loss: 0.2635 - accuracy: 0.9060"
          ]
        }
      ],
      "source": [
        "from keras.backend import categorical_crossentropy\n",
        "from tensorflow.keras.optimizers import Adam,SGD\n",
        "\n",
        "from tensorflow.keras.optimizers import SGD\n",
        "#opt = SGD(lr = 0.01, momentum= 0.9)\n",
        "model.compile(optimizer=Adam(learning_rate=0.001), loss='categorical_crossentropy', metrics=['accuracy'])\n",
        "history=model.fit(x_train_data,\n",
        "                  epochs=10,\n",
        "                  batch_size=32,\n",
        "                  verbose=1,\n",
        "                  validation_data= x_test_data)"
      ]
    },
    {
      "cell_type": "code",
      "execution_count": null,
      "metadata": {
        "id": "Zt5B2hJ673k5"
      },
      "outputs": [],
      "source": [
        "model.save('lung_detect.h5') "
      ]
    },
    {
      "cell_type": "code",
      "execution_count": null,
      "metadata": {
        "id": "6msyPIWf7__I"
      },
      "outputs": [],
      "source": [
        "import matplotlib.pyplot as plt \n",
        "plt.plot(history.history['val_accuracy'])\n",
        "plt.plot(history.history['accuracy'])\n",
        "plt.title('Model Accuracy')\n",
        "plt.ylabel('accuracy')\n",
        "plt.xlabel('epoch')\n",
        "plt.legend(['validation','train'], loc='upper-left')"
      ]
    },
    {
      "cell_type": "code",
      "execution_count": null,
      "metadata": {
        "id": "UZu3VD-DAEtc"
      },
      "outputs": [],
      "source": [
        "import numpy as np\n",
        "from numpy import argmax\n",
        "from keras.saving.save import load_model\n",
        "model5=load_model('lung_detect.h5')\n",
        "from keras.preprocessing.image import load_img, img_to_array\n",
        "labels = {0:'cancer',\n",
        "          1: 'normal',\n",
        "         }\n",
        "img=load_img('/content/drive/MyDrive/x_ray_detection_lung/x_ray detect/test/cancer/e376386e1182881197fdc9a18a2bbbaa.jpg', target_size=(350,350)) #filename: link hinh anh\n",
        "plt.imshow(img)\n",
        "img=img_to_array(img)\n",
        "img = img.reshape(1,350,350,3)\n",
        "img=img.astype('float32')\n",
        "img=img/255\n",
        "img.shape\n",
        "np.argmax(model5.predict(img),axis=1)\n",
        "print('expectation:',labels[np.argmax(model5.predict(img))])\n",
        "print('với độ chính xác:',int(np.max(history.history['accuracy'])*100),'%')\n",
        "print(history.history['accuracy'])"
      ]
    },
    {
      "cell_type": "code",
      "execution_count": null,
      "metadata": {
        "id": "wBrOjGm1GiHG"
      },
      "outputs": [],
      "source": [
        ""
      ]
    }
  ],
  "metadata": {
    "accelerator": "GPU",
    "colab": {
      "collapsed_sections": [],
      "name": "model_lung.ipynb",
      "provenance": [],
      "mount_file_id": "1YMvJFTcg5MDxdTFQEKsiUOmOxjDBCjHg",
      "authorship_tag": "ABX9TyPSjY3uu3vpP+Fxb0qPe/WQ",
      "include_colab_link": true
    },
    "gpuClass": "standard",
    "kernelspec": {
      "display_name": "Python 3",
      "name": "python3"
    },
    "language_info": {
      "name": "python"
    }
  },
  "nbformat": 4,
  "nbformat_minor": 0
}